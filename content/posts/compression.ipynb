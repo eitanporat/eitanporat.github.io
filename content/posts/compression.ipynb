{
  "nbformat": 4,
  "nbformat_minor": 0,
  "metadata": {
    "colab": {
      "provenance": [],
      "machine_shape": "hm",
      "gpuType": "A100"
    },
    "kernelspec": {
      "name": "python3",
      "display_name": "Python 3"
    },
    "language_info": {
      "name": "python"
    },
    "accelerator": "GPU",
    "widgets": {
      "application/vnd.jupyter.widget-state+json": {
        "2033d95d12d04c16a23e081c4301a11c": {
          "model_module": "@jupyter-widgets/controls",
          "model_name": "HBoxModel",
          "model_module_version": "1.5.0",
          "state": {
            "_dom_classes": [],
            "_model_module": "@jupyter-widgets/controls",
            "_model_module_version": "1.5.0",
            "_model_name": "HBoxModel",
            "_view_count": null,
            "_view_module": "@jupyter-widgets/controls",
            "_view_module_version": "1.5.0",
            "_view_name": "HBoxView",
            "box_style": "",
            "children": [
              "IPY_MODEL_e4a052ace7184c859b95e77e90d7d1cc",
              "IPY_MODEL_8d38a5bb1c2c432093d199060e03999e",
              "IPY_MODEL_3270101b9fef46f0bffe4c0c95d39b9a"
            ],
            "layout": "IPY_MODEL_1da1e2913da74461902bc89444b19800"
          }
        },
        "e4a052ace7184c859b95e77e90d7d1cc": {
          "model_module": "@jupyter-widgets/controls",
          "model_name": "HTMLModel",
          "model_module_version": "1.5.0",
          "state": {
            "_dom_classes": [],
            "_model_module": "@jupyter-widgets/controls",
            "_model_module_version": "1.5.0",
            "_model_name": "HTMLModel",
            "_view_count": null,
            "_view_module": "@jupyter-widgets/controls",
            "_view_module_version": "1.5.0",
            "_view_name": "HTMLView",
            "description": "",
            "description_tooltip": null,
            "layout": "IPY_MODEL_d0049d0b5e5a4251923b97096749d309",
            "placeholder": "​",
            "style": "IPY_MODEL_d8016e2ea551454db9eb088aefde3a4d",
            "value": "100%"
          }
        },
        "8d38a5bb1c2c432093d199060e03999e": {
          "model_module": "@jupyter-widgets/controls",
          "model_name": "FloatProgressModel",
          "model_module_version": "1.5.0",
          "state": {
            "_dom_classes": [],
            "_model_module": "@jupyter-widgets/controls",
            "_model_module_version": "1.5.0",
            "_model_name": "FloatProgressModel",
            "_view_count": null,
            "_view_module": "@jupyter-widgets/controls",
            "_view_module_version": "1.5.0",
            "_view_name": "ProgressView",
            "bar_style": "success",
            "description": "",
            "description_tooltip": null,
            "layout": "IPY_MODEL_6fa15d1bc56441f5aee459940b77e73b",
            "max": 2468,
            "min": 0,
            "orientation": "horizontal",
            "style": "IPY_MODEL_f4c25ba7fe8144108f7cfb0d2f738ef3",
            "value": 2468
          }
        },
        "3270101b9fef46f0bffe4c0c95d39b9a": {
          "model_module": "@jupyter-widgets/controls",
          "model_name": "HTMLModel",
          "model_module_version": "1.5.0",
          "state": {
            "_dom_classes": [],
            "_model_module": "@jupyter-widgets/controls",
            "_model_module_version": "1.5.0",
            "_model_name": "HTMLModel",
            "_view_count": null,
            "_view_module": "@jupyter-widgets/controls",
            "_view_module_version": "1.5.0",
            "_view_name": "HTMLView",
            "description": "",
            "description_tooltip": null,
            "layout": "IPY_MODEL_6dfe15237ff943a0a46ea0dadb2ec9ac",
            "placeholder": "​",
            "style": "IPY_MODEL_2b08ebcc82a94b0392fa1c78231ca41e",
            "value": " 2468/2468 [05:49&lt;00:00,  7.44it/s]"
          }
        },
        "1da1e2913da74461902bc89444b19800": {
          "model_module": "@jupyter-widgets/base",
          "model_name": "LayoutModel",
          "model_module_version": "1.2.0",
          "state": {
            "_model_module": "@jupyter-widgets/base",
            "_model_module_version": "1.2.0",
            "_model_name": "LayoutModel",
            "_view_count": null,
            "_view_module": "@jupyter-widgets/base",
            "_view_module_version": "1.2.0",
            "_view_name": "LayoutView",
            "align_content": null,
            "align_items": null,
            "align_self": null,
            "border": null,
            "bottom": null,
            "display": null,
            "flex": null,
            "flex_flow": null,
            "grid_area": null,
            "grid_auto_columns": null,
            "grid_auto_flow": null,
            "grid_auto_rows": null,
            "grid_column": null,
            "grid_gap": null,
            "grid_row": null,
            "grid_template_areas": null,
            "grid_template_columns": null,
            "grid_template_rows": null,
            "height": null,
            "justify_content": null,
            "justify_items": null,
            "left": null,
            "margin": null,
            "max_height": null,
            "max_width": null,
            "min_height": null,
            "min_width": null,
            "object_fit": null,
            "object_position": null,
            "order": null,
            "overflow": null,
            "overflow_x": null,
            "overflow_y": null,
            "padding": null,
            "right": null,
            "top": null,
            "visibility": null,
            "width": null
          }
        },
        "d0049d0b5e5a4251923b97096749d309": {
          "model_module": "@jupyter-widgets/base",
          "model_name": "LayoutModel",
          "model_module_version": "1.2.0",
          "state": {
            "_model_module": "@jupyter-widgets/base",
            "_model_module_version": "1.2.0",
            "_model_name": "LayoutModel",
            "_view_count": null,
            "_view_module": "@jupyter-widgets/base",
            "_view_module_version": "1.2.0",
            "_view_name": "LayoutView",
            "align_content": null,
            "align_items": null,
            "align_self": null,
            "border": null,
            "bottom": null,
            "display": null,
            "flex": null,
            "flex_flow": null,
            "grid_area": null,
            "grid_auto_columns": null,
            "grid_auto_flow": null,
            "grid_auto_rows": null,
            "grid_column": null,
            "grid_gap": null,
            "grid_row": null,
            "grid_template_areas": null,
            "grid_template_columns": null,
            "grid_template_rows": null,
            "height": null,
            "justify_content": null,
            "justify_items": null,
            "left": null,
            "margin": null,
            "max_height": null,
            "max_width": null,
            "min_height": null,
            "min_width": null,
            "object_fit": null,
            "object_position": null,
            "order": null,
            "overflow": null,
            "overflow_x": null,
            "overflow_y": null,
            "padding": null,
            "right": null,
            "top": null,
            "visibility": null,
            "width": null
          }
        },
        "d8016e2ea551454db9eb088aefde3a4d": {
          "model_module": "@jupyter-widgets/controls",
          "model_name": "DescriptionStyleModel",
          "model_module_version": "1.5.0",
          "state": {
            "_model_module": "@jupyter-widgets/controls",
            "_model_module_version": "1.5.0",
            "_model_name": "DescriptionStyleModel",
            "_view_count": null,
            "_view_module": "@jupyter-widgets/base",
            "_view_module_version": "1.2.0",
            "_view_name": "StyleView",
            "description_width": ""
          }
        },
        "6fa15d1bc56441f5aee459940b77e73b": {
          "model_module": "@jupyter-widgets/base",
          "model_name": "LayoutModel",
          "model_module_version": "1.2.0",
          "state": {
            "_model_module": "@jupyter-widgets/base",
            "_model_module_version": "1.2.0",
            "_model_name": "LayoutModel",
            "_view_count": null,
            "_view_module": "@jupyter-widgets/base",
            "_view_module_version": "1.2.0",
            "_view_name": "LayoutView",
            "align_content": null,
            "align_items": null,
            "align_self": null,
            "border": null,
            "bottom": null,
            "display": null,
            "flex": null,
            "flex_flow": null,
            "grid_area": null,
            "grid_auto_columns": null,
            "grid_auto_flow": null,
            "grid_auto_rows": null,
            "grid_column": null,
            "grid_gap": null,
            "grid_row": null,
            "grid_template_areas": null,
            "grid_template_columns": null,
            "grid_template_rows": null,
            "height": null,
            "justify_content": null,
            "justify_items": null,
            "left": null,
            "margin": null,
            "max_height": null,
            "max_width": null,
            "min_height": null,
            "min_width": null,
            "object_fit": null,
            "object_position": null,
            "order": null,
            "overflow": null,
            "overflow_x": null,
            "overflow_y": null,
            "padding": null,
            "right": null,
            "top": null,
            "visibility": null,
            "width": null
          }
        },
        "f4c25ba7fe8144108f7cfb0d2f738ef3": {
          "model_module": "@jupyter-widgets/controls",
          "model_name": "ProgressStyleModel",
          "model_module_version": "1.5.0",
          "state": {
            "_model_module": "@jupyter-widgets/controls",
            "_model_module_version": "1.5.0",
            "_model_name": "ProgressStyleModel",
            "_view_count": null,
            "_view_module": "@jupyter-widgets/base",
            "_view_module_version": "1.2.0",
            "_view_name": "StyleView",
            "bar_color": null,
            "description_width": ""
          }
        },
        "6dfe15237ff943a0a46ea0dadb2ec9ac": {
          "model_module": "@jupyter-widgets/base",
          "model_name": "LayoutModel",
          "model_module_version": "1.2.0",
          "state": {
            "_model_module": "@jupyter-widgets/base",
            "_model_module_version": "1.2.0",
            "_model_name": "LayoutModel",
            "_view_count": null,
            "_view_module": "@jupyter-widgets/base",
            "_view_module_version": "1.2.0",
            "_view_name": "LayoutView",
            "align_content": null,
            "align_items": null,
            "align_self": null,
            "border": null,
            "bottom": null,
            "display": null,
            "flex": null,
            "flex_flow": null,
            "grid_area": null,
            "grid_auto_columns": null,
            "grid_auto_flow": null,
            "grid_auto_rows": null,
            "grid_column": null,
            "grid_gap": null,
            "grid_row": null,
            "grid_template_areas": null,
            "grid_template_columns": null,
            "grid_template_rows": null,
            "height": null,
            "justify_content": null,
            "justify_items": null,
            "left": null,
            "margin": null,
            "max_height": null,
            "max_width": null,
            "min_height": null,
            "min_width": null,
            "object_fit": null,
            "object_position": null,
            "order": null,
            "overflow": null,
            "overflow_x": null,
            "overflow_y": null,
            "padding": null,
            "right": null,
            "top": null,
            "visibility": null,
            "width": null
          }
        },
        "2b08ebcc82a94b0392fa1c78231ca41e": {
          "model_module": "@jupyter-widgets/controls",
          "model_name": "DescriptionStyleModel",
          "model_module_version": "1.5.0",
          "state": {
            "_model_module": "@jupyter-widgets/controls",
            "_model_module_version": "1.5.0",
            "_model_name": "DescriptionStyleModel",
            "_view_count": null,
            "_view_module": "@jupyter-widgets/base",
            "_view_module_version": "1.2.0",
            "_view_name": "StyleView",
            "description_width": ""
          }
        }
      }
    }
  },
  "cells": [
    {
      "cell_type": "markdown",
      "source": [
        "# Loading Corpus"
      ],
      "metadata": {
        "id": "gpXidx5Nv_rQ"
      }
    },
    {
      "cell_type": "code",
      "execution_count": 74,
      "metadata": {
        "colab": {
          "base_uri": "https://localhost:8080/"
        },
        "id": "pLrrF0Pispg9",
        "outputId": "2a6054cb-9aa4-4fa6-cc36-f13b47b42f9c"
      },
      "outputs": [
        {
          "output_type": "stream",
          "name": "stderr",
          "text": [
            "[nltk_data] Downloading package gutenberg to /root/nltk_data...\n",
            "[nltk_data]   Package gutenberg is already up-to-date!\n"
          ]
        }
      ],
      "source": [
        "import nltk\n",
        "from nltk.corpus import gutenberg\n",
        "\n",
        "nltk.download('gutenberg')\n",
        "austen_emma = gutenberg.raw('austen-emma.txt')\n"
      ]
    },
    {
      "cell_type": "code",
      "source": [
        "print(austen_emma[:200])"
      ],
      "metadata": {
        "colab": {
          "base_uri": "https://localhost:8080/"
        },
        "id": "GLPBkHkus1aQ",
        "outputId": "a476ff40-bb0f-4e06-819c-7578648ea724"
      },
      "execution_count": 75,
      "outputs": [
        {
          "output_type": "stream",
          "name": "stdout",
          "text": [
            "[Emma by Jane Austen 1816]\n",
            "\n",
            "VOLUME I\n",
            "\n",
            "CHAPTER I\n",
            "\n",
            "\n",
            "Emma Woodhouse, handsome, clever, and rich, with a comfortable home\n",
            "and happy disposition, seemed to unite some of the best blessings\n",
            "of existence; an\n"
          ]
        }
      ]
    },
    {
      "cell_type": "markdown",
      "source": [
        "# Creating Frequency Tables"
      ],
      "metadata": {
        "id": "6DC0_aABwE3U"
      }
    },
    {
      "cell_type": "code",
      "source": [
        "import string\n",
        "from collections import Counter\n",
        "\n",
        "austen_emma_cleaned = austen_emma.upper()\n",
        "austen_emma_cleaned = ''.join(c for c in austen_emma_cleaned if c in string.ascii_uppercase + ' ')\n",
        "\n",
        "n = 6\n",
        "\n",
        "ngrams = [''.join(ngram) for ngram in zip(*(austen_emma_cleaned[i:-(n-i)] for i in range(n)))]\n",
        "freqs = Counter(ngrams)\n",
        "freqs\n",
        "\n",
        "english_freqs = Counter(austen_emma_cleaned)"
      ],
      "metadata": {
        "id": "zo_RVcOCs9-X"
      },
      "execution_count": 76,
      "outputs": []
    },
    {
      "cell_type": "markdown",
      "source": [
        "# Computing the marginal frequencies"
      ],
      "metadata": {
        "id": "BJVjYJQ_wKZ9"
      }
    },
    {
      "cell_type": "code",
      "source": [
        "def marginal(prefix, counts):\n",
        "  marginal_freqs = {ngram[-1]: count for ngram, count in freqs.items() if ngram[:-1] == prefix}\n",
        "  if not marginal_freqs:\n",
        "    marginal_freqs = english_freqs\n",
        "\n",
        "  characters, counts = zip(*marginal_freqs.items())\n",
        "  sum_counts = sum(counts)\n",
        "  probabilities = [count / sum_counts for count in counts]\n",
        "  return characters, probabilities"
      ],
      "metadata": {
        "id": "RyOW860g2vI2"
      },
      "execution_count": 77,
      "outputs": []
    },
    {
      "cell_type": "markdown",
      "source": [
        "# Sampling from our markov model"
      ],
      "metadata": {
        "id": "e0xEl7FvwPXv"
      }
    },
    {
      "cell_type": "code",
      "source": [
        "import random\n",
        "\n",
        "s = 'EMMA '\n",
        "\n",
        "for i in range(100):\n",
        "  characters, probabilities = marginal(s[-(n-1):], freqs)\n",
        "  s += random.choices(characters, weights=probabilities, k=1)[0]\n",
        "\n",
        "s"
      ],
      "metadata": {
        "colab": {
          "base_uri": "https://localhost:8080/",
          "height": 53
        },
        "id": "TZuj4UqJuoXu",
        "outputId": "f10406bc-6b97-4594-aaa8-1b2df4c6c274"
      },
      "execution_count": 78,
      "outputs": [
        {
          "output_type": "execute_result",
          "data": {
            "text/plain": [
              "'EMMA ASSISTERSTHE BUSINESSTO BE TO LEAVE THE LADY SCEPTIONS HINTSHIS INIMITABLE CIRCULARLY PERSONS YOU HA'"
            ],
            "application/vnd.google.colaboratory.intrinsic+json": {
              "type": "string"
            }
          },
          "metadata": {},
          "execution_count": 78
        }
      ]
    },
    {
      "cell_type": "markdown",
      "source": [
        "# Shannon Coding"
      ],
      "metadata": {
        "id": "q9ece-s4wUo_"
      }
    },
    {
      "cell_type": "code",
      "source": [
        "import math\n",
        "from tqdm.notebook import tqdm\n",
        "from numba import jit\n",
        "\n",
        "@jit(nopython=True)\n",
        "def float_to_binary_numba(number, length):\n",
        "    output = \"\"\n",
        "    for i in range(1, length + 1):\n",
        "        digit = int(number >= 0.5)\n",
        "        output += str(digit)\n",
        "        number = 2 * (number - 0.5 * digit)\n",
        "    return output\n",
        "\n",
        "def float_to_binary(number, length):\n",
        "  output = \"\"\n",
        "  for i in range(1, length + 1):\n",
        "    digit = int(number >= 0.5)\n",
        "    output += str(digit)\n",
        "    number = 2 * (number - 0.5 * digit)\n",
        "\n",
        "  return output\n",
        "\n",
        "def shannon_encoding(freq_table):\n",
        "  items = sorted(freq_table.items(), key=lambda x: x[1], reverse=True)\n",
        "  encoding = {}\n",
        "  Pi = 0.\n",
        "\n",
        "  for char, prob in items:\n",
        "    encoding[char] = float_to_binary_numba(Pi, math.ceil(math.log2(1/prob)))\n",
        "    Pi += prob\n",
        "\n",
        "  return encoding\n",
        "\n",
        "def encode(string, encoding):\n",
        "  return ''.join(encoding[char] for char in string)\n",
        "\n",
        "def expected_length(freq_table, encoding):\n",
        "  return sum(freq_table[char] * len(encoding[char]) for char in freq_table)\n",
        "\n",
        "def shannon_entropy(freq_table):\n",
        "    return sum(-freq_table[char] * math.log2(freq_table[char]) for char in freq_table)\n"
      ],
      "metadata": {
        "id": "Tu47PsrAxF5_"
      },
      "execution_count": 79,
      "outputs": []
    },
    {
      "cell_type": "code",
      "source": [
        "freq_table = {'a': 0.5, 'b': 0.25, 'c': 0.25}\n",
        "encoding = shannon_encoding(freq_table)\n",
        "encoding"
      ],
      "metadata": {
        "colab": {
          "base_uri": "https://localhost:8080/"
        },
        "id": "BNAL4GB4czmC",
        "outputId": "7a9e5ddf-c43f-478b-da06-da627b772711"
      },
      "execution_count": 80,
      "outputs": [
        {
          "output_type": "execute_result",
          "data": {
            "text/plain": [
              "{'a': '0', 'b': '10', 'c': '11'}"
            ]
          },
          "metadata": {},
          "execution_count": 80
        }
      ]
    },
    {
      "cell_type": "code",
      "source": [
        "print(f'expected length: {expected_length(freq_table, encoding)}')\n",
        "print(f'shannon entropy: {shannon_entropy(freq_table)}')"
      ],
      "metadata": {
        "colab": {
          "base_uri": "https://localhost:8080/"
        },
        "id": "KRuREuqsdZwt",
        "outputId": "6bf9f632-4868-4924-8e9d-f910dc35b89c"
      },
      "execution_count": 81,
      "outputs": [
        {
          "output_type": "stream",
          "name": "stdout",
          "text": [
            "expected length: 1.5\n",
            "shannon entropy: 1.5\n"
          ]
        }
      ]
    },
    {
      "cell_type": "code",
      "source": [
        "def decode(text, encoding):\n",
        "  output = \"\"\n",
        "  while text:\n",
        "    token, i = decode_token(text, encoding)\n",
        "    output += token\n",
        "    text = text[i:]\n",
        "  return output\n",
        "\n",
        "def decode_token(text, encoding):\n",
        "  inverted_encoding = {value: key for key, value in encoding.items()}\n",
        "  for i in range(len(text)):\n",
        "    if text[:i+1] in inverted_encoding:\n",
        "      return inverted_encoding[text[:i+1]], i+1"
      ],
      "metadata": {
        "id": "A5_V0HGne7QD"
      },
      "execution_count": 82,
      "outputs": []
    },
    {
      "cell_type": "code",
      "source": [
        "decode(encode('aabc', encoding), encoding)"
      ],
      "metadata": {
        "colab": {
          "base_uri": "https://localhost:8080/",
          "height": 35
        },
        "id": "W8wXDtHShFFf",
        "outputId": "e89ad6cb-35c4-4948-a4a3-6038bbc74981"
      },
      "execution_count": 83,
      "outputs": [
        {
          "output_type": "execute_result",
          "data": {
            "text/plain": [
              "'aabc'"
            ],
            "application/vnd.google.colaboratory.intrinsic+json": {
              "type": "string"
            }
          },
          "metadata": {},
          "execution_count": 83
        }
      ]
    },
    {
      "cell_type": "markdown",
      "source": [
        "# Combining with NanoGPT"
      ],
      "metadata": {
        "id": "q7XBViujwijm"
      }
    },
    {
      "cell_type": "code",
      "source": [
        "%pip install -q torch numpy transformers datasets tiktoken wandb tqdm"
      ],
      "metadata": {
        "id": "eNovd_aaiGqV"
      },
      "execution_count": 84,
      "outputs": []
    },
    {
      "cell_type": "code",
      "source": [
        "!git clone https://github.com/karpathy/nanoGPT\n",
        "%cd nanoGPT"
      ],
      "metadata": {
        "colab": {
          "base_uri": "https://localhost:8080/"
        },
        "id": "rr8NjV1ow1QQ",
        "outputId": "83f07064-63af-48c4-89ed-01a8eb33170d"
      },
      "execution_count": 85,
      "outputs": [
        {
          "output_type": "stream",
          "name": "stdout",
          "text": [
            "Cloning into 'nanoGPT'...\n",
            "remote: Enumerating objects: 671, done.\u001b[K\n",
            "remote: Counting objects: 100% (22/22), done.\u001b[K\n",
            "remote: Compressing objects: 100% (20/20), done.\u001b[K\n",
            "remote: Total 671 (delta 5), reused 12 (delta 2), pack-reused 649\u001b[K\n",
            "Receiving objects: 100% (671/671), 949.28 KiB | 767.00 KiB/s, done.\n",
            "Resolving deltas: 100% (376/376), done.\n",
            "/content/nanoGPT/nanoGPT\n"
          ]
        }
      ]
    },
    {
      "cell_type": "code",
      "source": [
        "from model import GPT\n",
        "import tiktoken\n",
        "import torch\n",
        "\n",
        "gpt2 = GPT.from_pretrained('gpt2', dict(dropout=0.0)).to(dtype=torch.float64)\n",
        "enc = tiktoken.get_encoding(\"gpt2\")\n",
        "tokenize = lambda s: enc.encode(s, allowed_special={\"<|endoftext|>\"})\n",
        "detokenize = lambda l: enc.decode(l)"
      ],
      "metadata": {
        "colab": {
          "base_uri": "https://localhost:8080/"
        },
        "id": "dHjYAXj0xIgL",
        "outputId": "a47380e5-d172-4d75-e86b-1c35e049636a"
      },
      "execution_count": 86,
      "outputs": [
        {
          "output_type": "stream",
          "name": "stdout",
          "text": [
            "loading weights from pretrained gpt: gpt2\n",
            "forcing vocab_size=50257, block_size=1024, bias=True\n",
            "overriding dropout rate to 0.0\n",
            "number of parameters: 123.65M\n"
          ]
        }
      ]
    },
    {
      "cell_type": "code",
      "source": [
        "import sys\n",
        "\n",
        "max_context = 128\n",
        "\n",
        "def compress(text):\n",
        "  tokens = tokenize('\\n' + text)\n",
        "  tokens = torch.tensor(tokens, dtype=torch.long)\n",
        "  output = ''\n",
        "\n",
        "  for i in tqdm(range(1, len(tokens))):\n",
        "    # get marginal from model\n",
        "    cond_tokens = tokens[None,:i] if i <= max_context else tokens[None,i-max_context:i]\n",
        "    probs = gpt2(cond_tokens)[0].flatten().softmax(0)\n",
        "    prob_next = probs[tokens[i]] # probability of next token\n",
        "    # sort probabilties\n",
        "    probs, indices = torch.sort(probs, descending=True)\n",
        "    idx = torch.argwhere(indices == tokens[i]).item()\n",
        "    # Pi is the cumulative sum up until idx (not including idx)\n",
        "    zero_tensor = torch.tensor([0])\n",
        "    probs = torch.cat((zero_tensor, probs), dim=0)\n",
        "    Pi = probs.cumsum(0)[idx].item()\n",
        "    # encode as a binary string using Shannon's method\n",
        "    encoded_token = float_to_binary_numba(Pi, math.ceil(math.log2(1/prob_next)))\n",
        "    output += encoded_token\n",
        "\n",
        "  return output\n",
        "\n",
        "def decompress(text):\n",
        "  tokens = tokenize('\\n')\n",
        "  tokens = torch.tensor(tokens, dtype=torch.long)\n",
        "  output = []\n",
        "  processed = 0\n",
        "  text_length = len(text)\n",
        "\n",
        "  while text:\n",
        "    # feed in tokens and truncate if number of tokens exceeds max_context\n",
        "    cond_tokens = tokens[None,:] if len(tokens) <= max_context else tokens[None,-max_context:]\n",
        "    probs = gpt2(cond_tokens)[0].flatten().softmax(0)\n",
        "    # construct frequency table\n",
        "    freq_table = {i:prob.item() for i, prob in enumerate(probs)}\n",
        "    encoding = shannon_encoding(freq_table)\n",
        "    token, i = decode_token(text, encoding)\n",
        "    # decompress the rest of the text\n",
        "    text = text[i:]\n",
        "    output.append(token)\n",
        "    tokens = torch.cat((tokens, torch.tensor([token], dtype=torch.long)), dim=0)\n",
        "    processed += i\n",
        "    print(f'\\r Decompressed {processed/text_length*100:.2f}% of text...', end='')\n",
        "\n",
        "  return detokenize(output)"
      ],
      "metadata": {
        "id": "A_lyOpjY2GYW"
      },
      "execution_count": 87,
      "outputs": []
    },
    {
      "cell_type": "markdown",
      "source": [
        "# Benchmarking our code"
      ],
      "metadata": {
        "id": "ed5Cgx2J48e0"
      }
    },
    {
      "cell_type": "code",
      "source": [
        "text = austen_emma[:10000]\n",
        "print(text)"
      ],
      "metadata": {
        "colab": {
          "base_uri": "https://localhost:8080/"
        },
        "id": "0h4_RVo8AMm3",
        "outputId": "81ad9f97-ff23-443b-daf1-edff1e853769"
      },
      "execution_count": 88,
      "outputs": [
        {
          "output_type": "stream",
          "name": "stdout",
          "text": [
            "[Emma by Jane Austen 1816]\n",
            "\n",
            "VOLUME I\n",
            "\n",
            "CHAPTER I\n",
            "\n",
            "\n",
            "Emma Woodhouse, handsome, clever, and rich, with a comfortable home\n",
            "and happy disposition, seemed to unite some of the best blessings\n",
            "of existence; and had lived nearly twenty-one years in the world\n",
            "with very little to distress or vex her.\n",
            "\n",
            "She was the youngest of the two daughters of a most affectionate,\n",
            "indulgent father; and had, in consequence of her sister's marriage,\n",
            "been mistress of his house from a very early period.  Her mother\n",
            "had died too long ago for her to have more than an indistinct\n",
            "remembrance of her caresses; and her place had been supplied\n",
            "by an excellent woman as governess, who had fallen little short\n",
            "of a mother in affection.\n",
            "\n",
            "Sixteen years had Miss Taylor been in Mr. Woodhouse's family,\n",
            "less as a governess than a friend, very fond of both daughters,\n",
            "but particularly of Emma.  Between _them_ it was more the intimacy\n",
            "of sisters.  Even before Miss Taylor had ceased to hold the nominal\n",
            "office of governess, the mildness of her temper had hardly allowed\n",
            "her to impose any restraint; and the shadow of authority being\n",
            "now long passed away, they had been living together as friend and\n",
            "friend very mutually attached, and Emma doing just what she liked;\n",
            "highly esteeming Miss Taylor's judgment, but directed chiefly by\n",
            "her own.\n",
            "\n",
            "The real evils, indeed, of Emma's situation were the power of having\n",
            "rather too much her own way, and a disposition to think a little\n",
            "too well of herself; these were the disadvantages which threatened\n",
            "alloy to her many enjoyments.  The danger, however, was at present\n",
            "so unperceived, that they did not by any means rank as misfortunes\n",
            "with her.\n",
            "\n",
            "Sorrow came--a gentle sorrow--but not at all in the shape of any\n",
            "disagreeable consciousness.--Miss Taylor married.  It was Miss\n",
            "Taylor's loss which first brought grief.  It was on the wedding-day\n",
            "of this beloved friend that Emma first sat in mournful thought\n",
            "of any continuance.  The wedding over, and the bride-people gone,\n",
            "her father and herself were left to dine together, with no prospect\n",
            "of a third to cheer a long evening.  Her father composed himself\n",
            "to sleep after dinner, as usual, and she had then only to sit\n",
            "and think of what she had lost.\n",
            "\n",
            "The event had every promise of happiness for her friend.  Mr. Weston\n",
            "was a man of unexceptionable character, easy fortune, suitable age,\n",
            "and pleasant manners; and there was some satisfaction in considering\n",
            "with what self-denying, generous friendship she had always wished\n",
            "and promoted the match; but it was a black morning's work for her.\n",
            "The want of Miss Taylor would be felt every hour of every day.\n",
            "She recalled her past kindness--the kindness, the affection of sixteen\n",
            "years--how she had taught and how she had played with her from five\n",
            "years old--how she had devoted all her powers to attach and amuse\n",
            "her in health--and how nursed her through the various illnesses\n",
            "of childhood.  A large debt of gratitude was owing here; but the\n",
            "intercourse of the last seven years, the equal footing and perfect\n",
            "unreserve which had soon followed Isabella's marriage, on their\n",
            "being left to each other, was yet a dearer, tenderer recollection.\n",
            "She had been a friend and companion such as few possessed: intelligent,\n",
            "well-informed, useful, gentle, knowing all the ways of the family,\n",
            "interested in all its concerns, and peculiarly interested in herself,\n",
            "in every pleasure, every scheme of hers--one to whom she could speak\n",
            "every thought as it arose, and who had such an affection for her\n",
            "as could never find fault.\n",
            "\n",
            "How was she to bear the change?--It was true that her friend was\n",
            "going only half a mile from them; but Emma was aware that great must\n",
            "be the difference between a Mrs. Weston, only half a mile from them,\n",
            "and a Miss Taylor in the house; and with all her advantages,\n",
            "natural and domestic, she was now in great danger of suffering\n",
            "from intellectual solitude.  She dearly loved her father, but he\n",
            "was no companion for her.  He could not meet her in conversation,\n",
            "rational or playful.\n",
            "\n",
            "The evil of the actual disparity in their ages (and Mr. Woodhouse had\n",
            "not married early) was much increased by his constitution and habits;\n",
            "for having been a valetudinarian all his life, without activity\n",
            "of mind or body, he was a much older man in ways than in years;\n",
            "and though everywhere beloved for the friendliness of his heart\n",
            "and his amiable temper, his talents could not have recommended him\n",
            "at any time.\n",
            "\n",
            "Her sister, though comparatively but little removed by matrimony,\n",
            "being settled in London, only sixteen miles off, was much beyond\n",
            "her daily reach; and many a long October and November evening must\n",
            "be struggled through at Hartfield, before Christmas brought the next\n",
            "visit from Isabella and her husband, and their little children,\n",
            "to fill the house, and give her pleasant society again.\n",
            "\n",
            "Highbury, the large and populous village, almost amounting to a town,\n",
            "to which Hartfield, in spite of its separate lawn, and shrubberies,\n",
            "and name, did really belong, afforded her no equals.  The Woodhouses\n",
            "were first in consequence there.  All looked up to them.  She had\n",
            "many acquaintance in the place, for her father was universally civil,\n",
            "but not one among them who could be accepted in lieu of Miss\n",
            "Taylor for even half a day.  It was a melancholy change; and Emma\n",
            "could not but sigh over it, and wish for impossible things,\n",
            "till her father awoke, and made it necessary to be cheerful.\n",
            "His spirits required support.  He was a nervous man, easily depressed;\n",
            "fond of every body that he was used to, and hating to part with them;\n",
            "hating change of every kind.  Matrimony, as the origin of change,\n",
            "was always disagreeable; and he was by no means yet reconciled\n",
            "to his own daughter's marrying, nor could ever speak of her but\n",
            "with compassion, though it had been entirely a match of affection,\n",
            "when he was now obliged to part with Miss Taylor too; and from\n",
            "his habits of gentle selfishness, and of being never able to\n",
            "suppose that other people could feel differently from himself,\n",
            "he was very much disposed to think Miss Taylor had done as sad\n",
            "a thing for herself as for them, and would have been a great deal\n",
            "happier if she had spent all the rest of her life at Hartfield.\n",
            "Emma smiled and chatted as cheerfully as she could, to keep him\n",
            "from such thoughts; but when tea came, it was impossible for him\n",
            "not to say exactly as he had said at dinner,\n",
            "\n",
            "\"Poor Miss Taylor!--I wish she were here again.  What a pity it\n",
            "is that Mr. Weston ever thought of her!\"\n",
            "\n",
            "\"I cannot agree with you, papa; you know I cannot.  Mr. Weston is such\n",
            "a good-humoured, pleasant, excellent man, that he thoroughly deserves\n",
            "a good wife;--and you would not have had Miss Taylor live with us\n",
            "for ever, and bear all my odd humours, when she might have a house of her own?\"\n",
            "\n",
            "\"A house of her own!--But where is the advantage of a house of her own?\n",
            "This is three times as large.--And you have never any odd humours,\n",
            "my dear.\"\n",
            "\n",
            "\"How often we shall be going to see them, and they coming to see\n",
            "us!--We shall be always meeting! _We_ must begin; we must go and pay\n",
            "wedding visit very soon.\"\n",
            "\n",
            "\"My dear, how am I to get so far? Randalls is such a distance.\n",
            "I could not walk half so far.\"\n",
            "\n",
            "\"No, papa, nobody thought of your walking.  We must go in the carriage,\n",
            "to be sure.\"\n",
            "\n",
            "\"The carriage! But James will not like to put the horses to for\n",
            "such a little way;--and where are the poor horses to be while we\n",
            "are paying our visit?\"\n",
            "\n",
            "\"They are to be put into Mr. Weston's stable, papa.  You know we\n",
            "have settled all that already.  We talked it all over with Mr. Weston\n",
            "last night.  And as for James, you may be very sure he will always like\n",
            "going to Randalls, because of his daughter's being housemaid there.\n",
            "I only doubt whether he will ever take us anywhere else.  That was\n",
            "your doing, papa.  You got Hannah that good place.  Nobody thought\n",
            "of Hannah till you mentioned her--James is so obliged to you!\"\n",
            "\n",
            "\"I am very glad I did think of her.  It was very lucky, for I would\n",
            "not have had poor James think himself slighted upon any account;\n",
            "and I am sure she will make a very good servant: she is a civil,\n",
            "pretty-spoken girl; I have a great opinion of her.  Whenever I see her,\n",
            "she always curtseys and asks me how I do, in a very pretty manner;\n",
            "and when you have had her here to do needlework, I observe she\n",
            "always turns the lock of the door the right way and never bangs it.\n",
            "I am sure she will be an excellent servant; and it will be a great\n",
            "comfort to poor Miss Taylor to have somebody about her that she is\n",
            "used to see.  Whenever James goes over to see his daughter, you know,\n",
            "she will be hearing of us.  He will be able to tell her how we\n",
            "all are.\"\n",
            "\n",
            "Emma spared no exertions to maintain this happier flow of ideas,\n",
            "and hoped, by the help of backgammon, to get her father tolerably\n",
            "through the evening, and be attacked by no regrets but her own.\n",
            "The backgammon-table was placed; but a visitor immediately afterwards\n",
            "walked in and made it unnecessary.\n",
            "\n",
            "Mr. Knightley, a sensible man about seven or eight-and-thirty, was not\n",
            "only a very old and intimate friend of the family, but particularly\n",
            "connected with it, as the elder brother of Isabella's husband.\n",
            "He lived about a mile from Highbury, was a frequent visitor,\n",
            "and always welcome, and at this time more welcome than usual,\n",
            "as coming directly from their mutual connexions in London.  He had\n",
            "returned to a late dinner, after some days' absence, and now walked\n",
            "up to Hartfield to say that all were well in Brunswick Square.\n",
            "It was a happy circumstance, and animated Mr. Woodhouse for some time.\n",
            "Mr. Knightley had a cheerful manner, which always did him good;\n",
            "and his many inquiries after \"poor Isabella\" and her children were\n",
            "answered most satisfactorily.  When this was over, Mr. Woodhouse\n",
            "gratefully observed, \"It is very kind of you, Mr. Knightley, to come\n",
            "out at this late hour to call upon us.  I am afraid you must have\n",
            "had a shocking walk.\"\n",
            "\n",
            "\"Not at all, sir.  It is a beautiful moonlight night; and so mild\n",
            "that I must draw back from your great fire.\"\n",
            "\n",
            "\"But you must have found it very damp and dirt\n"
          ]
        }
      ]
    },
    {
      "cell_type": "code",
      "source": [
        "%%time\n",
        "compressed_string = compress(text)\n",
        "compressed_string"
      ],
      "metadata": {
        "colab": {
          "base_uri": "https://localhost:8080/",
          "height": 258,
          "referenced_widgets": [
            "2033d95d12d04c16a23e081c4301a11c",
            "e4a052ace7184c859b95e77e90d7d1cc",
            "8d38a5bb1c2c432093d199060e03999e",
            "3270101b9fef46f0bffe4c0c95d39b9a",
            "1da1e2913da74461902bc89444b19800",
            "d0049d0b5e5a4251923b97096749d309",
            "d8016e2ea551454db9eb088aefde3a4d",
            "6fa15d1bc56441f5aee459940b77e73b",
            "f4c25ba7fe8144108f7cfb0d2f738ef3",
            "6dfe15237ff943a0a46ea0dadb2ec9ac",
            "2b08ebcc82a94b0392fa1c78231ca41e"
          ]
        },
        "id": "0Qeu8lUTpumb",
        "outputId": "ed084008-62ea-409e-94b1-5f1c1acd7f04"
      },
      "execution_count": 89,
      "outputs": [
        {
          "output_type": "display_data",
          "data": {
            "text/plain": [
              "  0%|          | 0/2468 [00:00<?, ?it/s]"
            ],
            "application/vnd.jupyter.widget-view+json": {
              "version_major": 2,
              "version_minor": 0,
              "model_id": "2033d95d12d04c16a23e081c4301a11c"
            }
          },
          "metadata": {}
        },
        {
          "output_type": "stream",
          "name": "stdout",
          "text": [
            "CPU times: user 34min 28s, sys: 32.6 s, total: 35min\n",
            "Wall time: 5min 49s\n"
          ]
        },
        {
          "output_type": "execute_result",
          "data": {
            "text/plain": [
              "'01110011110011101110010110110010011010001010101100101111101110101000110110101100001111011100011011001000000011000001101101010101111110110001000011010010011101100011100110000110111110000001011001000001110010100011001010001011111111111111111111100111011100011111100101000011000001100100110100001100110101011000010001011101001011001111000011111111111111100101001101101110110000010101000101010100011101001110100010111000000010010001001111111111111111111100111001010100011100000000011111011110111011110010010010100000000000001010101110000001011001100000101000100010100011100101001110101111111111111111111110111111000000000110000101000001010011000010101000000101100010000101000111111111111111111111110111010110111111000011011001011010110010111100111101000000001110100011111001001000011110101100000000010100111111111111111010001011010101111000001111011010110111000000001010101101000010110101110110001001001111111101011011000000011111010101100010010010000011010100011110000110010101101010111001110011100111001011111101111111110011001111100100010010101111101110011100000101111110110100010111010111011001010000000100011100110110101010000111111111000101011110011001110000001110101010101100011110001000100111011000101111111111110110110111010111110010110100100001010000100001110010011001100011010010101111010001101000111111111111111010011111100111011001011101000100011111000010011111100100010011100101001100100101000111101110001001100011111010100111111111011101001011101011110000000110001111101110110101010001010011101010000110001111100001010011001111111110010110011000000000101110010000101110011000001010001100110111010010010100111111111100001011001101010101000001011110111000001110100111110100110000011001110101101101111111001010110011010011001011111001101100000100100100111010100010111110111101101000011111111111010101110111110100000100111000000011111101011010110110000011010111111100101011111000011001001011100011111111111111111111111111010010101101101111100100110010100010110111011011000011101101110000011001110100011011100000000010000000111111100011010001010001100011000110000011100000111110000001010010100111010001110000011111111111111101010011000001001110101110011000000011010111011000101010101110000100001110110101000000111111111111110101100111001110100001010111110000011000000100010100011100000101101011111111010101111011101011010110111000001001111011110001100110100101111010011111111110100111000111100001100000001011100001110000111111111111011011010111100011101100110000001010110000110001010010000000111101111001100101101010111100001100100011111111111110110101010011000000101110100101110000010001111111011010001100010010001000110011011001110001100101001110000110000100100101001100100001111111101100111111101011010011001111001001111101111000010000011011011011001110000010110011000101001001010011111111110001101010010010000101000011110110000110011110010110000100101011101001001001101101110000111111101101101101001101000101000111111001110000111100001101100010110001001111001010011010011111011011110100110110110111110001010100101010000000000001111001011001100010001100001111010001111001010011101001010000000111111110101101001010001111000000000011010010000010110010000101100100110010001101100101101000100101011101010000001100110111011100010001110000010000010000011000011111010010011001001100000010101111101010111111010100100001011111000000000010011100110001100100010111010110100100100001100000010000000000110001001100010110000011111110001111111011010110011010100111000010010010010011011111000001110001000101011000100000011111111111101010001000000000011110101010010011010100000001101010010011110001111101111001100110001000111010001111111111100101001100101000011000010101110110000001000110000111001100000011111111111101110001000111110101110000100011111100000111100010000001100001011001100001100101011111111010111111111001001111101100110110111100001111010111110100101100000011000100101110010110100100100111001100001110000010010111111111111111100010111011010001000011100010000010001001001100001110000111100110111101110101010101001001111111111111111111100100010111100011101100110011100110000011101111110010001000010000011010100001100101101011110101111000100111010010100101001111000010011010011001101101000000100011111010000001101110001001110101011101111111101000110100110110000100111110011001101011011100011111111011010101100101001100111010110101000001101011001011111111100111001001111111000011111100000001101000010111111010100011000010010111010011110110001010111111101110100100100010011001001111000000000111101111101010110100100100100000010010010000001000000001111011111000011100011101101110011101010111011011001101011000110000010010001110110010001101110110110110001110111011100101011111101100011011100001001101101010010101111110101010111000011101101001010101110101010000110111101000101111000001011100100101011111101010111010110001111101011100000101000001000000000000111101101001000111111000110101011000011110100100111010111111010001111100000000001011001011101011100100000110011101101111111100110001001000011000000011110100001010101100000000011000001000101000000110011010000000001001010111001000000100110001110010010110000010111000001100000100110010110001001111110010000101000010110001111010010111000111000110001101001100011110011000000010000110010100101100110011100001000110010110010111010101100010100011111010100111011011010101101100110001000010000111001010111100101010000010001111011000110110001010110001000100100110101011000111100000000110011011000100001101110110110001111000110110001100110010001110110110100110011001010110100000101010101000101000001111000000100010010110100100011100100000100000000100101111111111111100111000100000000011011011110000000001000110010011001000001010101001001111100001010111111111111111111111110001111100100001010101011000001001011000001001011000110011011000111111111111011101011111011011000000110111011110100111101101111111111101111101011111001100011100100001100100011100100111100010001110011111000011000010010110001010000101010110010001101111010000111111111110110110110000011000011111110001100010010101011011100000001110000011001011101111000011101000001110001001110011001001001101110010100001111111001110011100001010101100111010011110001010101100001110101100101100100101110011100110011001010010111000011111111111100111101110110011000010001111100011111001101111111111011000100011010001110000110001101110101111010000101011001111111110110111011000001000000000000000000111101100110101110101110111000100001011000101011101101100111111111111100100010001011111011101011100111111000111001000111000101001011000100010100001000100111101101111111101100000100111001100100111001110110101011110001100001101110111110011000100011111111001000001001000111000101111000010001010000100001011101110111100110010000000100111011011100111001011001000001010111111111111111111111000100111011011111111110001110000110000001011010000110111110100111011010100000010110011111001000010010100111111111111110011110010111010010000010100001100010010100010000100101111010010011101011110011011010000111001000110011111111101110110110111000011010111110100111011101010001011100010011110110101010111110001110001111010111110000111111111111011100100100011011111010111101111110110110101000010010001000101110001110110010000010011111111111110001100110000011100000000000111000101111001001101111001100111010101100101111011000100011101111010010111110000000000111110110100100011100010100101011111111111101011010000100000000000001111111111111111010010100011100000100100101000000111010001110100101000111101100000010010000111101001011110011111010110110100001111111111111101010001011010101000010011000011101110011100000101110010010010110111111011100111111000111110001011011111001100011100001110010110001001101011110101100011101001101101010111001110001101110000101011101100111110101110100010011000010001011100100111000010010001010011011101111011011101001000101010001001100011000000100011101011011111111011100001000001111111111011101111011001011110011101001010000110110100010110101110101011110100011110101100111101000000111111111111110111010100011110001011000010100010001111000110000001010000000101000010011101101101000011110111100111000111111101100100001101100101001100111100011000011101001010011111000100100110000100010101001110000001110000011110100111111000110000111111001111010010100100001010010101000110111100110001110101110111001110110111011001001100000010000110011111010100011010011111100011110011000101001111010000000010000111011000010011100101000101101010011000000011101100000100000101100110110001001001011001100001110110000111011111100001010010000110100000100111110001000101011011110100101001100011001010010110110110001110110010000001111110010110011101011000001000010100100110001010001110111100011000101100011101001101101001010111100010011010100111011100001010101111100001001001100110010100100110110001001001010111100111101000011000011100001010111010011010100110100000001000010011000100110010101010101110100111010001111001110000010111011011110000110100101010111110110011000111001010010010010100110100011001001100010000000010001010101010111001001000001001010101100111110111111101111000010010001011101110001100011101000000000000001000010000010010001011011100101111010001110100010111111111010011001010111101110000001110011110100011111110100101010001100100100011001000000000110100010100101000001000001101010011101111101101100000101101111000011011010000011111101111001010010101101010101110001111110101010010110110110000000011001000001110111011000010100100000010011010110101110110000100101111010111010100100010110000111100110000110011000100011101111000010011111000100000001110010011000011001001011111000100101111010001001111101110011100100010000110011011100011010100010011100110001111111110010001010010000100011010111111111111101110100001110100010001110001011110101111100000010000010001100000001010101101111110000000111101001001000001001011101111011001001110101001111111000100001110000101001000111011111111111111100110001000000111100001110011001100111001101000000001010001011110011000111010100011111111111111101110110000111011100011100011101010100010010001001000001000101010010101101110111100001001011011100011111111111111010111110110110000100111110011110010101100110011110110000110011011101010010000010001100011001010000100000001101011011100011100010001010011000000011010111001011110111111000001110001111000000000000010001110000111111111111111101110110100011101000001010100100110100011110111100000110001100110101001100010001101101101110100000001000110011100001000001000100100100001111100010110001101100111101100000101010100000000101111110111011110000000110101111111001000000110010001001100000100001001010110011111001000011101110101000001011011101011010100110100111111001001100110010001000110111100110110010110111110111010100111111110110011110100100001001000000011100110000101000010001010101010010011111110100000101010010011101001101000011101110011001010100011000111111111111011010110001100001000100010111111110100000110000001101101111110010001101110000110110111111110000110100110100001010000000100110100111111111111000010010010001001010101000110000100000010011111100110110000110001001101001010001011001111111001010011110010010001011000101011011111010110100100101010111100110001011010100011111111011110001000100001011001000110101010111011001001100110000010000101011011100001000101011110010000010000111111111011101001111000010011000100100000000101000011100101011000011100110111100010010100011000110100000111101100010010000000111000101001010101100101111111111101101110111011000110110010010111110010000100000000111011111001110000011110010000101000000100011010010010010011101001110000101001010110110100000011000100100000010011001110010010001011111110010111110011110101000001000110000101001101100000101101110011010010110111011001100100101101001001101111111111111110111011011011010011001000010010000100101111110101001101101101010001010001101000000111110111010101100110000010100000010110010101111101010101110011000010011010010111110110111110000001110010110001011101000010010101100111001010100101000100111100011100010010111000001001010000001100011110010001110100001101011110110011000000000010111000101000011101111101000001100110101000111010110101010001101100110110011101001110100010111100111000110110110110110011111100110011111011111011010001101110001100011100101100001111001100000000001010110101001001000010000010100111100101011001100000011100101101100011100001110011010011101011101101001011001100110100001001111000111010100010000011010101110000000000000101111011010000110111111001110010010101100100010010110100011100110000010000011100101001101000111111111010010111100100110101100101010100110011001100100111011111010000110011000011111100010111001100101111111111111110011001111110000110110010110011111111001010110110000110100101010101100011110011100000000000100111111111111111110000000001000000000100010100001000011110001101100000011001111011001000011101111011111011000100100100011001111001011111010101110001010010010011000011100001110000110000001010001111111001011111011110101011000001010110001001001101001110001001000000000000111010100000111001111110010010000010100000000000100110000110101001101010111011001110000000111010111011001101110110001110001101011000111000111001010010100011111010101111110010011000001110001000101010001001001110001111111000110111101001100010110100000011010101110101101110101010001100000001000000100111111100110001100100001111010100111000001111001000011100101111001111110010010111010001111000101110110101100010100000011111111111101100101001100011000010000111100010011011011110100011011011000100100000101101100011110110010010001001111110101000001001001010100100100000110101111011011000110000101001011000110111110000010100100001110100111100100101100011001010011110001101010101110111100000000011110111001111111111101011110000000100011000111011001100011000000000100000011001100110001111111111111111111011110111011100111001100001110000111100000111010010001000100110110100111111111111111111100111110110100101010100100110000110110000001010101101101110000110011000010100111111111110111000110111111100011111100100000101001101001100110000010001001110010101010100000011111111111111110001000111110010100111110010111010100011001010000011101110101011010101100100110111101111010011111101110100010101010001111000000111000110100010010010100001000001011000101000100011110000000000001010101000110111000111111111001111110001101110000000010100101010010011010011001100111000110000110111111011110101001111010011001001000000001001000011011011111000001111011101011111110011100010000100011001101110010000000001001010101010100101101001010011010101111110010111010010110001001011110100010001010100001010000111010100100010110110101101110010000101010011100110001100000011110100001101001000111010011000101111100000000010011010001110110010000000100111001100011111011111111011111011001101001100010000000100000011010100101000010000000000001000010001100001001100010010011110010010110001000110111001110000000000000111100110000000001010011100110011110010101000111101111010000011111010001000101010110001000100010111000001010000000011111001100110110000101111010101101010101101101110110110001111111111101000110001010011111010010100010110100110101001001110111101011100010000000011010010000000100011100000010010111110011100011110000101001'"
            ],
            "application/vnd.google.colaboratory.intrinsic+json": {
              "type": "string"
            }
          },
          "metadata": {},
          "execution_count": 89
        }
      ]
    },
    {
      "cell_type": "code",
      "source": [
        "%%time\n",
        "decompressed_string = decompress(compressed_string)\n",
        "assert decompressed_string == text, 'Decompress(Compress(X)) != X'"
      ],
      "metadata": {
        "colab": {
          "base_uri": "https://localhost:8080/"
        },
        "id": "jGTeeLe6Um6_",
        "outputId": "75179838-add4-48b2-84ff-41ed2a66b329"
      },
      "execution_count": 90,
      "outputs": [
        {
          "output_type": "stream",
          "name": "stdout",
          "text": [
            " Decompressed 100.00% of text...CPU times: user 49min 15s, sys: 25.9 s, total: 49min 41s\n",
            "Wall time: 21min 44s\n"
          ]
        }
      ]
    },
    {
      "cell_type": "code",
      "source": [
        "print(f'Size of uncompressed text: {len(text) * 8}')"
      ],
      "metadata": {
        "colab": {
          "base_uri": "https://localhost:8080/"
        },
        "id": "msz4BMgM23dQ",
        "outputId": "0426f258-190b-4e49-b173-7a487acbb43d"
      },
      "execution_count": 94,
      "outputs": [
        {
          "output_type": "stream",
          "name": "stdout",
          "text": [
            "Size of uncompressed text: 80000\n"
          ]
        }
      ]
    },
    {
      "cell_type": "code",
      "source": [
        "import zlib\n",
        "print(f'Size of compressed text using zlib: {len(zlib.compress(text.encode())) * 8}')"
      ],
      "metadata": {
        "colab": {
          "base_uri": "https://localhost:8080/"
        },
        "id": "D-jJEN133mlB",
        "outputId": "f5bb17bf-f732-4905-927f-8afd92af591c"
      },
      "execution_count": 95,
      "outputs": [
        {
          "output_type": "stream",
          "name": "stdout",
          "text": [
            "Size of compressed text using zlib: 35784\n"
          ]
        }
      ]
    },
    {
      "cell_type": "code",
      "source": [
        "print(f'Size of compressed text using our compression algorithm: {len(compressed_string)}')"
      ],
      "metadata": {
        "colab": {
          "base_uri": "https://localhost:8080/"
        },
        "id": "q0oiidn21MwC",
        "outputId": "2ba56f99-59b1-4f3c-8766-74dcdf28cea1"
      },
      "execution_count": 96,
      "outputs": [
        {
          "output_type": "stream",
          "name": "stdout",
          "text": [
            "Size of compressed text using our compression algorithm: 15179\n"
          ]
        }
      ]
    },
    {
      "cell_type": "code",
      "source": [],
      "metadata": {
        "id": "jax99d-g_Rhc"
      },
      "execution_count": null,
      "outputs": []
    }
  ]
}